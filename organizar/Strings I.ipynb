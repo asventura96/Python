{
 "cells": [
  {
   "cell_type": "code",
   "execution_count": 1,
   "id": "df0c88a8",
   "metadata": {},
   "outputs": [
    {
     "name": "stdout",
     "output_type": "stream",
     "text": [
      "Google\n"
     ]
    }
   ],
   "source": [
    "empresa = \"Google\"\n",
    "print(empresa)"
   ]
  },
  {
   "cell_type": "code",
   "execution_count": 2,
   "id": "72b25cd1",
   "metadata": {},
   "outputs": [
    {
     "name": "stdout",
     "output_type": "stream",
     "text": [
      "Google\n"
     ]
    }
   ],
   "source": [
    "empresa = 'Google'\n",
    "print(empresa)"
   ]
  },
  {
   "cell_type": "code",
   "execution_count": 4,
   "id": "3524b05b",
   "metadata": {},
   "outputs": [
    {
     "name": "stdout",
     "output_type": "stream",
     "text": [
      "O professor disse: \"Hoje a pizza é por minha conta\"\n"
     ]
    }
   ],
   "source": [
    "frase = \"O professor disse: \\\"Hoje a pizza é por minha conta\\\"\"\n",
    "print(frase)"
   ]
  },
  {
   "cell_type": "code",
   "execution_count": 5,
   "id": "59d7bc06",
   "metadata": {},
   "outputs": [
    {
     "name": "stdout",
     "output_type": "stream",
     "text": [
      "o\n"
     ]
    }
   ],
   "source": [
    "empresa = 'Google'\n",
    "print(empresa[2])"
   ]
  },
  {
   "cell_type": "code",
   "execution_count": 7,
   "id": "297b41d3",
   "metadata": {},
   "outputs": [
    {
     "name": "stdout",
     "output_type": "stream",
     "text": [
      "Google\n"
     ]
    }
   ],
   "source": [
    "print(empresa[:6])"
   ]
  },
  {
   "cell_type": "code",
   "execution_count": 8,
   "id": "471fe7ed",
   "metadata": {},
   "outputs": [
    {
     "name": "stdout",
     "output_type": "stream",
     "text": [
      "['laranja', 'maçã', 'abacaxi', 'limão']\n"
     ]
    }
   ],
   "source": [
    "frutas = \"laranja, maçã, abacaxi, limão\"\n",
    "frutas = frutas.split(', ')\n",
    "print(frutas)"
   ]
  },
  {
   "cell_type": "code",
   "execution_count": 11,
   "id": "1965a3eb",
   "metadata": {},
   "outputs": [
    {
     "name": "stdout",
     "output_type": "stream",
     "text": [
      "Menu Principal\n"
     ]
    }
   ],
   "source": [
    "cabeçalho = \"        Menu Principal      \"\n",
    "print(cabeçalho.strip())"
   ]
  },
  {
   "cell_type": "code",
   "execution_count": 12,
   "id": "959d7955",
   "metadata": {},
   "outputs": [
    {
     "name": "stdout",
     "output_type": "stream",
     "text": [
      "Belo Horizonte\n",
      "Belo horizonte\n",
      "belo horizonte\n",
      "BELO HORIZONTE\n"
     ]
    }
   ],
   "source": [
    "cidade = 'beLo horiZonte'\n",
    "print(cidade.title())\n",
    "print(cidade.capitalize())\n",
    "print(cidade.lower())\n",
    "print(cidade.upper())"
   ]
  },
  {
   "cell_type": "code",
   "execution_count": 13,
   "id": "01724605",
   "metadata": {},
   "outputs": [
    {
     "name": "stdout",
     "output_type": "stream",
     "text": [
      "True\n"
     ]
    }
   ],
   "source": [
    "mensagem = 'Você vii o que o Pietro disse na sala ontem?'\n",
    "fui_citado = 'Pietro' in mensagem\n",
    "print(fui_citado)"
   ]
  },
  {
   "cell_type": "code",
   "execution_count": null,
   "id": "3be3a0e1",
   "metadata": {},
   "outputs": [],
   "source": []
  }
 ],
 "metadata": {
  "kernelspec": {
   "display_name": "Python 3",
   "language": "python",
   "name": "python3"
  },
  "language_info": {
   "codemirror_mode": {
    "name": "ipython",
    "version": 3
   },
   "file_extension": ".py",
   "mimetype": "text/x-python",
   "name": "python",
   "nbconvert_exporter": "python",
   "pygments_lexer": "ipython3",
   "version": "3.8.8"
  }
 },
 "nbformat": 4,
 "nbformat_minor": 5
}

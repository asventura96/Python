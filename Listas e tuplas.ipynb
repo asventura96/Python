{
 "cells": [
  {
   "cell_type": "code",
   "execution_count": 3,
   "id": "9f2e1e9d",
   "metadata": {},
   "outputs": [
    {
     "name": "stdout",
     "output_type": "stream",
     "text": [
      "['laranja', 'melancia', 'abacaxi', 'laranja', 'limão']\n"
     ]
    }
   ],
   "source": [
    "frutas = ['laranja', 'melancia', 'abacaxi', 'laranja', 'limão']\n",
    "print(frutas)"
   ]
  },
  {
   "cell_type": "code",
   "execution_count": 5,
   "id": "d4c7d5c1",
   "metadata": {},
   "outputs": [
    {
     "name": "stdout",
     "output_type": "stream",
     "text": [
      "Tamanho da lista:  5\n"
     ]
    }
   ],
   "source": [
    "print('Tamanho da lista: ', len(frutas))"
   ]
  },
  {
   "cell_type": "code",
   "execution_count": 6,
   "id": "cf7a1619",
   "metadata": {},
   "outputs": [
    {
     "name": "stdout",
     "output_type": "stream",
     "text": [
      "Fruta:  abacaxi\n"
     ]
    }
   ],
   "source": [
    "print('Fruta: ', frutas[2])"
   ]
  },
  {
   "cell_type": "code",
   "execution_count": 7,
   "id": "cd5b8890",
   "metadata": {},
   "outputs": [],
   "source": [
    "frutas[1] = 'maçã'"
   ]
  },
  {
   "cell_type": "code",
   "execution_count": 9,
   "id": "12180b56",
   "metadata": {},
   "outputs": [
    {
     "name": "stdout",
     "output_type": "stream",
     "text": [
      "Frutas:  ['laranja', 'maçã', 'abacaxi', 'laranja', 'limão']\n"
     ]
    }
   ],
   "source": [
    "print('Frutas: ', frutas)"
   ]
  },
  {
   "cell_type": "code",
   "execution_count": 10,
   "id": "d3dc25db",
   "metadata": {},
   "outputs": [
    {
     "name": "stdout",
     "output_type": "stream",
     "text": [
      "['maçã', 'abacaxi']\n"
     ]
    }
   ],
   "source": [
    "print(frutas[1:3])"
   ]
  },
  {
   "cell_type": "code",
   "execution_count": 12,
   "id": "21e9d961",
   "metadata": {},
   "outputs": [
    {
     "name": "stdout",
     "output_type": "stream",
     "text": [
      "True\n"
     ]
    }
   ],
   "source": [
    "print('laranja' in frutas)"
   ]
  },
  {
   "cell_type": "code",
   "execution_count": 13,
   "id": "76cae90a",
   "metadata": {},
   "outputs": [
    {
     "name": "stdout",
     "output_type": "stream",
     "text": [
      "False\n"
     ]
    }
   ],
   "source": [
    "print('melancia' in frutas)"
   ]
  },
  {
   "cell_type": "code",
   "execution_count": 14,
   "id": "6d38c797",
   "metadata": {},
   "outputs": [],
   "source": [
    "pessoas = []"
   ]
  },
  {
   "cell_type": "code",
   "execution_count": 15,
   "id": "d64426e5",
   "metadata": {},
   "outputs": [
    {
     "name": "stdout",
     "output_type": "stream",
     "text": [
      "['Rafael', 'André', 'Alan', 'Tatiane', 'Rayssa', 'Jovelina', 'José']\n"
     ]
    }
   ],
   "source": [
    "pessoas.append('Rafael')\n",
    "pessoas.append('André')\n",
    "pessoas.append('Alan')\n",
    "pessoas.append('Tatiane')\n",
    "pessoas.append('Rayssa')\n",
    "pessoas.append('Jovelina')\n",
    "pessoas.append('José')\n",
    "\n",
    "print(pessoas)"
   ]
  },
  {
   "cell_type": "code",
   "execution_count": 16,
   "id": "5f24f308",
   "metadata": {},
   "outputs": [
    {
     "name": "stdout",
     "output_type": "stream",
     "text": [
      "['Rafael', 'André', 'Aiury', 'Alan', 'Tatiane', 'Rayssa', 'Jovelina', 'José']\n"
     ]
    }
   ],
   "source": [
    "pessoas.insert(2, 'Aiury')\n",
    "print(pessoas)"
   ]
  },
  {
   "cell_type": "code",
   "execution_count": 17,
   "id": "39ac3abf",
   "metadata": {},
   "outputs": [
    {
     "name": "stdout",
     "output_type": "stream",
     "text": [
      "['Rafael', 'André', 'Aiury', 'Tatiane', 'Rayssa', 'Jovelina', 'José']\n"
     ]
    }
   ],
   "source": [
    "pessoas.remove('Alan')\n",
    "print(pessoas)"
   ]
  },
  {
   "cell_type": "code",
   "execution_count": 18,
   "id": "793762b1",
   "metadata": {},
   "outputs": [
    {
     "name": "stdout",
     "output_type": "stream",
     "text": [
      "['Rafael', 'André', 'Aiury', 'Tatiane', 'Jovelina', 'José'] Rayssa\n"
     ]
    }
   ],
   "source": [
    "removido = pessoas.pop(4)\n",
    "print(pessoas, removido)"
   ]
  },
  {
   "cell_type": "code",
   "execution_count": 19,
   "id": "adfa5ac1",
   "metadata": {},
   "outputs": [
    {
     "name": "stdout",
     "output_type": "stream",
     "text": [
      "('cachorro', 'gato', 'ovelha', 'vaca', 'boi')\n"
     ]
    }
   ],
   "source": [
    "animais = 'cachorro', 'gato', 'ovelha', 'vaca', 'boi'\n",
    "print(animais)"
   ]
  },
  {
   "cell_type": "code",
   "execution_count": 20,
   "id": "495c0d74",
   "metadata": {},
   "outputs": [
    {
     "name": "stdout",
     "output_type": "stream",
     "text": [
      "<class 'tuple'>\n"
     ]
    }
   ],
   "source": [
    "print(type(animais))"
   ]
  },
  {
   "cell_type": "code",
   "execution_count": 22,
   "id": "772b926c",
   "metadata": {},
   "outputs": [],
   "source": [
    "c, g, o, v, b = animais"
   ]
  },
  {
   "cell_type": "code",
   "execution_count": 23,
   "id": "a708ac53",
   "metadata": {},
   "outputs": [
    {
     "name": "stdout",
     "output_type": "stream",
     "text": [
      "cachorro gato ovelha vaca boi\n"
     ]
    }
   ],
   "source": [
    "print(c, g, o, v, b)"
   ]
  },
  {
   "cell_type": "code",
   "execution_count": null,
   "id": "b9ee857b",
   "metadata": {},
   "outputs": [],
   "source": []
  }
 ],
 "metadata": {
  "kernelspec": {
   "display_name": "Python 3",
   "language": "python",
   "name": "python3"
  },
  "language_info": {
   "codemirror_mode": {
    "name": "ipython",
    "version": 3
   },
   "file_extension": ".py",
   "mimetype": "text/x-python",
   "name": "python",
   "nbconvert_exporter": "python",
   "pygments_lexer": "ipython3",
   "version": "3.8.8"
  }
 },
 "nbformat": 4,
 "nbformat_minor": 5
}

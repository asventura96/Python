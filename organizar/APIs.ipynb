{
 "cells": [
  {
   "cell_type": "code",
   "execution_count": 1,
   "id": "5b4e3615",
   "metadata": {},
   "outputs": [
    {
     "name": "stdout",
     "output_type": "stream",
     "text": [
      "Requirement already satisfied: requests in r:\\documents\\software\\anaconda\\lib\\site-packages (2.25.1)\n",
      "Requirement already satisfied: urllib3<1.27,>=1.21.1 in r:\\documents\\software\\anaconda\\lib\\site-packages (from requests) (1.26.4)\n",
      "Requirement already satisfied: idna<3,>=2.5 in r:\\documents\\software\\anaconda\\lib\\site-packages (from requests) (2.10)\n",
      "Requirement already satisfied: chardet<5,>=3.0.2 in r:\\documents\\software\\anaconda\\lib\\site-packages (from requests) (4.0.0)\n",
      "Requirement already satisfied: certifi>=2017.4.17 in r:\\documents\\software\\anaconda\\lib\\site-packages (from requests) (2020.12.5)\n"
     ]
    }
   ],
   "source": [
    "!pip install requests"
   ]
  },
  {
   "cell_type": "code",
   "execution_count": 2,
   "id": "24a8d3a2",
   "metadata": {},
   "outputs": [],
   "source": [
    "import requests"
   ]
  },
  {
   "cell_type": "code",
   "execution_count": 3,
   "id": "76980af1",
   "metadata": {},
   "outputs": [
    {
     "name": "stdout",
     "output_type": "stream",
     "text": [
      "200\n"
     ]
    }
   ],
   "source": [
    "url = 'https://api.exchangerate-api.com/v6/latest'\n",
    "\n",
    "req = requests.get(url)\n",
    "\n",
    "print(req.status_code)"
   ]
  },
  {
   "cell_type": "code",
   "execution_count": 4,
   "id": "3c6afcc5",
   "metadata": {},
   "outputs": [
    {
     "name": "stdout",
     "output_type": "stream",
     "text": [
      "{'result': 'success', 'provider': 'https://www.exchangerate-api.com', 'documentation': 'https://www.exchangerate-api.com/docs/free', 'WARNING_NEW_ENDPOINT': 'Swap *api.exchangerate-api.com* with *open.er-api.com* for better servers!', 'terms_of_use': 'https://www.exchangerate-api.com/terms', 'time_last_update_unix': 1625270551, 'time_last_update_utc': 'Sat, 03 Jul 2021 00:02:31 +0000', 'time_next_update_unix': 1625357341, 'time_next_update_utc': 'Sun, 04 Jul 2021 00:09:01 +0000', 'time_eol_unix': 0, 'base_code': 'USD', 'rates': {'USD': 1, 'AED': 3.67, 'AFN': 79.41, 'ALL': 102.76, 'AMD': 495.51, 'ANG': 1.79, 'AOA': 650.42, 'ARS': 95.76, 'AUD': 1.33, 'AWG': 1.79, 'AZN': 1.7, 'BAM': 1.65, 'BBD': 2, 'BDT': 84.64, 'BGN': 1.65, 'BHD': 0.376, 'BIF': 1969.41, 'BMD': 1, 'BND': 1.35, 'BOB': 6.88, 'BRL': 5.03, 'BSD': 1, 'BTN': 74.62, 'BWP': 10.98, 'BYN': 2.54, 'BZD': 2, 'CAD': 1.24, 'CDF': 1988.62, 'CHF': 0.923, 'CLP': 737.35, 'CNY': 6.47, 'COP': 3741.6, 'CRC': 619.47, 'CUC': 1, 'CUP': 25.75, 'CVE': 92.9, 'CZK': 21.58, 'DJF': 177.72, 'DKK': 6.29, 'DOP': 56.9, 'DZD': 134.05, 'EGP': 15.66, 'ERN': 15, 'ETB': 43.88, 'EUR': 0.843, 'FJD': 2.07, 'FKP': 0.724, 'FOK': 6.29, 'GBP': 0.724, 'GEL': 3.16, 'GGP': 0.724, 'GHS': 5.89, 'GIP': 0.724, 'GMD': 51.99, 'GNF': 9819.77, 'GTQ': 7.74, 'GYD': 209.12, 'HKD': 7.76, 'HNL': 23.87, 'HRK': 6.35, 'HTG': 92.89, 'HUF': 297.28, 'IDR': 14552.54, 'ILS': 3.28, 'IMP': 0.724, 'INR': 74.62, 'IQD': 1459.39, 'IRR': 41919.11, 'ISK': 124.43, 'JMD': 149.75, 'JOD': 0.709, 'JPY': 111.28, 'KES': 107.77, 'KGS': 84.69, 'KHR': 4073.15, 'KID': 1.33, 'KMF': 414.47, 'KRW': 1134.29, 'KWD': 0.3, 'KYD': 0.833, 'KZT': 426.38, 'LAK': 9469.93, 'LBP': 1507.5, 'LKR': 199.15, 'LRD': 171.04, 'LSL': 14.32, 'LYD': 4.51, 'MAD': 8.92, 'MDL': 18.03, 'MGA': 3909.86, 'MKD': 51.9, 'MMK': 1643.27, 'MNT': 2855.18, 'MOP': 8, 'MRU': 36.16, 'MUR': 42.73, 'MVR': 15.4, 'MWK': 799.32, 'MXN': 19.89, 'MYR': 4.16, 'MZN': 63.82, 'NAD': 14.32, 'NGN': 428.92, 'NIO': 35.07, 'NOK': 8.62, 'NPR': 119.39, 'NZD': 1.43, 'OMR': 0.384, 'PAB': 1, 'PEN': 3.87, 'PGK': 3.5, 'PHP': 49.3, 'PKR': 157.47, 'PLN': 3.81, 'PYG': 6735.24, 'QAR': 3.64, 'RON': 4.15, 'RSD': 99, 'RUB': 73.44, 'RWF': 1004.69, 'SAR': 3.75, 'SBD': 7.91, 'SCR': 14.71, 'SDG': 452.41, 'SEK': 8.57, 'SGD': 1.35, 'SHP': 0.724, 'SLL': 10270.95, 'SOS': 578.78, 'SRD': 20.85, 'SSP': 177.63, 'STN': 20.64, 'SYP': 1385.16, 'SZL': 14.32, 'THB': 32.15, 'TJS': 11.32, 'TMT': 3.5, 'TND': 2.77, 'TOP': 2.23, 'TRY': 8.69, 'TTD': 6.75, 'TVD': 1.33, 'TWD': 27.92, 'TZS': 2315.98, 'UAH': 27.33, 'UGX': 3555.76, 'UYU': 43.51, 'UZS': 10552.43, 'VES': 3234644.64, 'VND': 22964.79, 'VUV': 109.93, 'WST': 2.54, 'XAF': 552.63, 'XCD': 2.7, 'XDR': 0.703, 'XOF': 552.63, 'XPF': 100.53, 'YER': 250.13, 'ZAR': 14.32, 'ZMW': 22.61}}\n"
     ]
    }
   ],
   "source": [
    "dados = req.json()\n",
    "\n",
    "print(dados)"
   ]
  },
  {
   "cell_type": "code",
   "execution_count": 8,
   "id": "4da965ea",
   "metadata": {},
   "outputs": [
    {
     "name": "stdout",
     "output_type": "stream",
     "text": [
      "Informe o valor em reais a ser convertido\n",
      "100\n",
      "R$100.0 em dólar valem US$ 19.88\n"
     ]
    }
   ],
   "source": [
    "valor_reais = float(input('Informe o valor em reais a ser convertido\\n'))\n",
    "cotacao = dados['rates']['BRL']\n",
    "print(f'R${valor_reais} em dólar valem US$ {(valor_reais / cotacao):.2f}')"
   ]
  },
  {
   "cell_type": "code",
   "execution_count": null,
   "id": "f0be1947",
   "metadata": {},
   "outputs": [],
   "source": []
  }
 ],
 "metadata": {
  "kernelspec": {
   "display_name": "Python 3",
   "language": "python",
   "name": "python3"
  },
  "language_info": {
   "codemirror_mode": {
    "name": "ipython",
    "version": 3
   },
   "file_extension": ".py",
   "mimetype": "text/x-python",
   "name": "python",
   "nbconvert_exporter": "python",
   "pygments_lexer": "ipython3",
   "version": "3.8.8"
  }
 },
 "nbformat": 4,
 "nbformat_minor": 5
}

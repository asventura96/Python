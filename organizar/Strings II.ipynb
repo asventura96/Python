{
 "cells": [
  {
   "cell_type": "code",
   "execution_count": 7,
   "id": "4cddf913",
   "metadata": {},
   "outputs": [
    {
     "name": "stdout",
     "output_type": "stream",
     "text": [
      "Meu nome é André da Silva Ventura. Tenho 25 anos!\n"
     ]
    }
   ],
   "source": [
    "nome = 'André'\n",
    "meio = 'da Silva'\n",
    "sobrenome = 'Ventura'\n",
    "idade = '25'\n",
    "\n",
    "print('Meu nome é ' + nome + ' ' + meio + ' ' + sobrenome + '. Tenho ' + idade + ' anos!')"
   ]
  },
  {
   "cell_type": "code",
   "execution_count": 6,
   "id": "f9086ac2",
   "metadata": {},
   "outputs": [
    {
     "name": "stdout",
     "output_type": "stream",
     "text": [
      "André André André André André André André André André André \n"
     ]
    }
   ],
   "source": [
    "print(nome * 10)"
   ]
  },
  {
   "cell_type": "code",
   "execution_count": 9,
   "id": "f75dc79e",
   "metadata": {},
   "outputs": [
    {
     "name": "stdout",
     "output_type": "stream",
     "text": [
      "Meu nome é André da Silva Ventura. Tenho 25 anos\n"
     ]
    }
   ],
   "source": [
    "print('Meu nome é {} {} {}. Tenho {} anos' .format(nome, meio, sobrenome, idade))"
   ]
  },
  {
   "cell_type": "code",
   "execution_count": 10,
   "id": "57531338",
   "metadata": {},
   "outputs": [
    {
     "name": "stdout",
     "output_type": "stream",
     "text": [
      "Meu nome é André da Silva Ventura. Tenho 25 anos\n"
     ]
    }
   ],
   "source": [
    "print(f'Meu nome é {nome} {meio} {sobrenome}. Tenho {idade} anos')"
   ]
  },
  {
   "cell_type": "code",
   "execution_count": null,
   "id": "7ec2851e",
   "metadata": {},
   "outputs": [],
   "source": []
  }
 ],
 "metadata": {
  "kernelspec": {
   "display_name": "Python 3",
   "language": "python",
   "name": "python3"
  },
  "language_info": {
   "codemirror_mode": {
    "name": "ipython",
    "version": 3
   },
   "file_extension": ".py",
   "mimetype": "text/x-python",
   "name": "python",
   "nbconvert_exporter": "python",
   "pygments_lexer": "ipython3",
   "version": "3.8.8"
  }
 },
 "nbformat": 4,
 "nbformat_minor": 5
}

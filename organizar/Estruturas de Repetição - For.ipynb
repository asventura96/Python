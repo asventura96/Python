{
 "cells": [
  {
   "cell_type": "code",
   "execution_count": 1,
   "id": "6e2955f4",
   "metadata": {},
   "outputs": [
    {
     "name": "stdout",
     "output_type": "stream",
     "text": [
      "laranja\n",
      "abacaxi\n",
      "uva\n",
      "morango\n"
     ]
    }
   ],
   "source": [
    "#Exemplo for em uma Lista\n",
    "frutas = ['laranja', 'abacaxi', 'uva', 'morango']\n",
    "for nome in frutas:\n",
    "    print(nome)"
   ]
  },
  {
   "cell_type": "code",
   "execution_count": 2,
   "id": "7f90c73b",
   "metadata": {},
   "outputs": [
    {
     "name": "stdout",
     "output_type": "stream",
     "text": [
      "laranja\n",
      "abacaxi\n",
      "uva\n",
      "morango\n"
     ]
    }
   ],
   "source": [
    "#Exemplo while em uma Lista\n",
    "contador = 0\n",
    "frutas = ['laranja', 'abacaxi', 'uva', 'morango']\n",
    "while contador < len(frutas):\n",
    "    print(frutas[contador])\n",
    "    contador = contador + 1"
   ]
  },
  {
   "cell_type": "code",
   "execution_count": 3,
   "id": "0af23798",
   "metadata": {},
   "outputs": [
    {
     "name": "stdout",
     "output_type": "stream",
     "text": [
      "laranja\n",
      "abacaxi\n",
      "uva\n",
      "morango\n"
     ]
    }
   ],
   "source": [
    "#Exemplo for em uma Tupla\n",
    "frutas = 'laranja', 'abacaxi', 'uva', 'morango'\n",
    "for nome in frutas:\n",
    "    print(nome)"
   ]
  },
  {
   "cell_type": "code",
   "execution_count": 7,
   "id": "4ae72675",
   "metadata": {},
   "outputs": [
    {
     "name": "stdout",
     "output_type": "stream",
     "text": [
      "Nome: Belo Horizonte\n",
      "Estado: MG\n"
     ]
    }
   ],
   "source": [
    "#Exemplo for em um Dicionário\n",
    "cidade = {\n",
    "    'Nome' : 'Belo Horizonte',\n",
    "    'Estado' : 'MG'\n",
    "}\n",
    "for chave in cidade:\n",
    "    print(f'{chave}: {cidade[chave]}')"
   ]
  },
  {
   "cell_type": "code",
   "execution_count": 8,
   "id": "bf4196b3",
   "metadata": {},
   "outputs": [
    {
     "name": "stdout",
     "output_type": "stream",
     "text": [
      "['laranja', 'laranja', 'laranja', 'laranja']\n"
     ]
    }
   ],
   "source": [
    "frutas = ['laranja', 'abacaxi', 'uva', 'morango']\n",
    "for posicao in range(len(frutas)):\n",
    "    frutas[posicao] = 'laranja'\n",
    "print(frutas)"
   ]
  },
  {
   "cell_type": "code",
   "execution_count": 9,
   "id": "1598a587",
   "metadata": {},
   "outputs": [
    {
     "name": "stdout",
     "output_type": "stream",
     "text": [
      "[0, 1, 2, 3, 4, 5, 6, 7, 8, 9]\n",
      "[2, 3, 4, 5, 6, 7, 8, 9]\n",
      "[2, 4, 6, 8]\n"
     ]
    }
   ],
   "source": [
    "print(list(range(10)))\n",
    "print(list(range(2, 10)))\n",
    "print(list(range(2, 10, 2)))"
   ]
  },
  {
   "cell_type": "code",
   "execution_count": null,
   "id": "8da66d92",
   "metadata": {},
   "outputs": [],
   "source": []
  }
 ],
 "metadata": {
  "kernelspec": {
   "display_name": "Python 3",
   "language": "python",
   "name": "python3"
  },
  "language_info": {
   "codemirror_mode": {
    "name": "ipython",
    "version": 3
   },
   "file_extension": ".py",
   "mimetype": "text/x-python",
   "name": "python",
   "nbconvert_exporter": "python",
   "pygments_lexer": "ipython3",
   "version": "3.8.8"
  }
 },
 "nbformat": 4,
 "nbformat_minor": 5
}

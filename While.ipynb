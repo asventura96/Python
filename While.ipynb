{
 "cells": [
  {
   "cell_type": "code",
   "execution_count": 3,
   "id": "04b688f7",
   "metadata": {},
   "outputs": [
    {
     "name": "stdout",
     "output_type": "stream",
     "text": [
      "1 Item limpo\n",
      "2 Itens limpos\n",
      "3 Itens limpos\n",
      "4 Itens limpos\n",
      "5 Itens limpos\n",
      "6 Itens limpos\n",
      "7 Itens limpos\n",
      "8 Itens limpos\n",
      "9 Itens limpos\n",
      "10 Itens limpos\n",
      "Fim da Repetição\n"
     ]
    }
   ],
   "source": [
    "contador = 0\n",
    "\n",
    "while contador < 10:\n",
    "    contador = contador + 1\n",
    "    if contador == 1:\n",
    "        print(contador, 'Item limpo')\n",
    "    else:\n",
    "        print(contador, 'Itens limpos')\n",
    "    \n",
    "print('Fim da Repetição')"
   ]
  },
  {
   "cell_type": "code",
   "execution_count": 4,
   "id": "9785474b",
   "metadata": {},
   "outputs": [
    {
     "name": "stdout",
     "output_type": "stream",
     "text": [
      "Digite a sua senhaletscode\n",
      "Senha inválida. Tente novamente!andre\n",
      "Senha inválida. Tente novamente!letscodea\n",
      "Senha inválida. Tente novamente!Letscode\n",
      "Acesso permitido\n"
     ]
    }
   ],
   "source": [
    "texto = input('Digite a sua senha')\n",
    "\n",
    "while texto != 'Letscode':\n",
    "    texto = input('Senha inválida. Tente novamente!')\n",
    "    \n",
    "print('Acesso permitido')"
   ]
  },
  {
   "cell_type": "code",
   "execution_count": null,
   "id": "160fedf7",
   "metadata": {},
   "outputs": [],
   "source": []
  }
 ],
 "metadata": {
  "kernelspec": {
   "display_name": "Python 3",
   "language": "python",
   "name": "python3"
  },
  "language_info": {
   "codemirror_mode": {
    "name": "ipython",
    "version": 3
   },
   "file_extension": ".py",
   "mimetype": "text/x-python",
   "name": "python",
   "nbconvert_exporter": "python",
   "pygments_lexer": "ipython3",
   "version": "3.8.8"
  }
 },
 "nbformat": 4,
 "nbformat_minor": 5
}
